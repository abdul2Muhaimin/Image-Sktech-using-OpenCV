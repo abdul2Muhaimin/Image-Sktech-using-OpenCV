{
 "cells": [
  {
   "cell_type": "code",
   "execution_count": 1,
   "metadata": {},
   "outputs": [],
   "source": [
    "import cv2\n",
    "import numpy as np\n",
    "import os"
   ]
  },
  {
   "cell_type": "code",
   "execution_count": 2,
   "metadata": {},
   "outputs": [],
   "source": [
    "prototxt_path = \"deploy.prototxt\"\n",
    "model_path = \"res10_300x300_ssd_iter_140000.caffemodel\""
   ]
  },
  {
   "cell_type": "code",
   "execution_count": 3,
   "metadata": {},
   "outputs": [],
   "source": [
    "model =  cv2.dnn.readNetFromCaffe(prototxt_path,model_path)"
   ]
  },
  {
   "cell_type": "code",
   "execution_count": 4,
   "metadata": {},
   "outputs": [],
   "source": [
    "import os\n",
    "directory = 'E:\\Instagram\\Islamabad Sketch'\n",
    "os.chdir(directory)"
   ]
  },
  {
   "cell_type": "code",
   "execution_count": 5,
   "metadata": {},
   "outputs": [],
   "source": [
    "img = cv2.imread('E:/Instagram/Islamabad/05.jpg')"
   ]
  },
  {
   "cell_type": "code",
   "execution_count": 6,
   "metadata": {},
   "outputs": [],
   "source": [
    "h, w = img.shape[:2]\n",
    "kernel_width = (w // 7) | 1\n",
    "kernel_height = (h // 7) | 1\n",
    "blob = cv2.dnn.blobFromImage(img, 1.0, (300, 300), (104.0, 177.0, 123.0))\n",
    "model.setInput(blob)\n",
    "output = np.squeeze(model.forward())\n",
    "\n",
    "for i in range(0, output.shape[0]):\n",
    "    confidence = output[i, 2]\n",
    "    if confidence > 0.4:\n",
    "        box = output[i, 3:7] * np.array([w, h, w, h])\n",
    "        start_x, start_y, end_x, end_y = box.astype(np.int)\n",
    "        face = img[start_y: end_y, start_x: end_x]\n",
    "        face = cv2.GaussianBlur(face, (kernel_width, kernel_height), 0)\n",
    "        img[start_y: end_y, start_x: end_x] = face\n",
    "\n",
    "scale = 0.60\n",
    "width = int(img.shape[1]*scale)\n",
    "height = int(img.shape[0]*scale)\n",
    "\n",
    "dim = (width,height)\n",
    "resized = cv2.resize(img,dim,interpolation = cv2.INTER_AREA)\n",
    "\n",
    "kernel_sharpening = np.array([[-1,-1,-1], \n",
    "                              [-1,9,0],\n",
    "                              [-1,-1,-1]])\n",
    "sharpened = cv2.filter2D(resized,-1,kernel_sharpening)\n",
    "gray = cv2.cvtColor(sharpened , cv2.COLOR_BGR2GRAY)\n",
    "\n",
    "def sketch(image,mask):\n",
    "    return  cv2.divide(image,255-mask,scale=256)\n",
    "pencil_image = sketch(gray,110)\n"
   ]
  },
  {
   "cell_type": "code",
   "execution_count": 7,
   "metadata": {},
   "outputs": [
    {
     "name": "stdout",
     "output_type": "stream",
     "text": [
      "['01.png', '015.png', '02.png', '03.png', '04.png', '05.png', '06.png', '07.png', '08.png']\n"
     ]
    }
   ],
   "source": [
    "filename = '015.png'\n",
    "cv2.imwrite(filename, pencil_image) \n",
    "print(os.listdir(directory)) "
   ]
  },
  {
   "cell_type": "code",
   "execution_count": 13,
   "metadata": {},
   "outputs": [],
   "source": [
    "cv2.imshow('Original', resized)\n",
    "cv2.imshow('pencil sketch',pencil_image)\n",
    "cv2.waitKey(0)\n",
    "cv2.destroyAllWindows()"
   ]
  },
  {
   "cell_type": "code",
   "execution_count": null,
   "metadata": {},
   "outputs": [],
   "source": []
  }
 ],
 "metadata": {
  "kernelspec": {
   "display_name": "Python 3",
   "language": "python",
   "name": "python3"
  },
  "language_info": {
   "codemirror_mode": {
    "name": "ipython",
    "version": 3
   },
   "file_extension": ".py",
   "mimetype": "text/x-python",
   "name": "python",
   "nbconvert_exporter": "python",
   "pygments_lexer": "ipython3",
   "version": "3.8.5"
  }
 },
 "nbformat": 4,
 "nbformat_minor": 4
}
